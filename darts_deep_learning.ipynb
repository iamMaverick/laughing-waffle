{
  "cells": [
    {
      "cell_type": "markdown",
      "metadata": {
        "id": "view-in-github",
        "colab_type": "text"
      },
      "source": [
        "<a href=\"https://colab.research.google.com/github/iamMaverick/laughing-waffle/blob/master/darts_deep_learning.ipynb\" target=\"_parent\"><img src=\"https://colab.research.google.com/assets/colab-badge.svg\" alt=\"Open In Colab\"/></a>"
      ]
    },
    {
      "cell_type": "code",
      "execution_count": null,
      "metadata": {
        "colab": {
          "base_uri": "https://localhost:8080/",
          "height": 277
        },
        "id": "31mgWbM3slZf",
        "outputId": "b5ecb350-c3e2-4012-dc6c-5ba67b0b60c7"
      },
      "outputs": [
        {
          "name": "stdout",
          "output_type": "stream",
          "text": [
            "Looking in indexes: https://pypi.org/simple, https://us-python.pkg.dev/colab-wheels/public/simple/\n",
            "Collecting pyyaml==5.4.1\n",
            "  Downloading PyYAML-5.4.1-cp37-cp37m-manylinux1_x86_64.whl (636 kB)\n",
            "\u001b[K     |████████████████████████████████| 636 kB 5.2 MB/s \n",
            "\u001b[?25hInstalling collected packages: pyyaml\n",
            "  Attempting uninstall: pyyaml\n",
            "    Found existing installation: PyYAML 6.0\n",
            "    Uninstalling PyYAML-6.0:\n",
            "      Successfully uninstalled PyYAML-6.0\n",
            "Successfully installed pyyaml-5.4.1\n"
          ]
        },
        {
          "data": {
            "application/vnd.colab-display-data+json": {
              "pip_warning": {
                "packages": [
                  "yaml"
                ]
              }
            }
          },
          "metadata": {},
          "output_type": "display_data"
        }
      ],
      "source": [
        "!pip install darts\n",
        "!pip install pyyaml==5.4.1"
      ]
    },
    {
      "cell_type": "code",
      "execution_count": null,
      "metadata": {
        "colab": {
          "base_uri": "https://localhost:8080/"
        },
        "id": "mN7L4AO8vyF6",
        "outputId": "44b0b215-2828-46fc-8a51-63b5a284bfa3"
      },
      "outputs": [
        {
          "name": "stdout",
          "output_type": "stream",
          "text": [
            "Looking in indexes: https://pypi.org/simple, https://us-python.pkg.dev/colab-wheels/public/simple/\n",
            "Collecting pymannkendall\n",
            "  Downloading pymannkendall-1.4.2-py3-none-any.whl (12 kB)\n",
            "Requirement already satisfied: numpy in /usr/local/lib/python3.7/dist-packages (from pymannkendall) (1.21.6)\n",
            "Requirement already satisfied: scipy in /usr/local/lib/python3.7/dist-packages (from pymannkendall) (1.7.3)\n",
            "Installing collected packages: pymannkendall\n",
            "Successfully installed pymannkendall-1.4.2\n"
          ]
        }
      ],
      "source": [
        "!pip install pymannkendall"
      ]
    },
    {
      "cell_type": "code",
      "execution_count": null,
      "metadata": {
        "id": "l_6mBwgrtuyr"
      },
      "outputs": [],
      "source": [
        "#data processing\n",
        "import pandas as pd\n",
        "import numpy as np\n",
        "# import tensorflow as tf\n",
        "import os\n",
        "\n",
        "#mongodb client\n",
        "#from pymongo import MongoClient\n",
        "\n",
        "# common set of functions\n",
        "#import common\n",
        "\n",
        "#data visualization functions\n",
        "import matplotlib as mp\n",
        "import matplotlib.pyplot as plt\n",
        "from matplotlib.pylab import rcParams\n",
        "rcParams['figure.figsize'] = 20,10\n",
        "\n",
        "#Machine learning\n",
        "from sklearn.preprocessing import StandardScaler, MinMaxScaler\n",
        "from sklearn.model_selection import train_test_split\n",
        "#statsmodels\n",
        "from statsmodels.tsa.seasonal import seasonal_decompose, STL\n",
        "\n",
        "\n",
        "#darts models\n",
        "import darts\n",
        "from darts import TimeSeries\n",
        "from darts.metrics import mape\n",
        "from darts import models as darts_models\n",
        "from darts.utils.statistics import check_seasonality, remove_seasonality, plot_acf, remove_trend, stationarity_test_adf, stationarity_test_kpss\n",
        "#model maker\n",
        "import pickle\n",
        "\n",
        "# from prophet import Prophet"
      ]
    },
    {
      "cell_type": "code",
      "execution_count": null,
      "metadata": {
        "id": "NEfnAkwluP2v"
      },
      "outputs": [],
      "source": [
        "\n",
        "\n",
        "def pre_process(df:pd.DataFrame)->pd.DataFrame:\n",
        "    \n",
        "    df.datetime = df.datetime.map(lambda x: x.replace(\"T\", \" \"))\n",
        "    df.datetime = df.datetime.map(lambda x: x[:-1])\n",
        "    df.datetime = pd.to_datetime(df.datetime)\n",
        "    df.close = df.close.astype('float')\n",
        "    df.reset_index(inplace=True)\n",
        "    df.set_index('datetime', inplace=True)\n",
        "    return df\n",
        "\n",
        "def convert_to_pd_series(df:pd.DataFrame)->pd.Series:\n",
        "    series = pd.Series(\n",
        "        df.close.values,\n",
        "        index = pd.date_range(\n",
        "            min(df.index),\n",
        "            periods = len(df.index),\n",
        "            freq='H'\n",
        "        )\n",
        "    )\n",
        "    return series\n",
        "\n",
        "def fill_missing_data(ts:TimeSeries)->TimeSeries:\n",
        "    from darts.utils.missing_values import fill_missing_values\n",
        "    ts = fill_missing_values(ts)\n",
        "    return ts\n",
        "\n",
        "def get_timeseries(obj)->TimeSeries:\n",
        "    if isinstance(obj, pd.DataFrame):\n",
        "        ts = fill_missing_data(TimeSeries.from_dataframe(obj))\n",
        "    elif isinstance(obj, pd.Series):\n",
        "        ts = TimeSeries.from_series(obj)\n",
        "    \n",
        "    return ts\n",
        "\n",
        "def split_series(ts:TimeSeries)->tuple:\n",
        "    train, val = ts.split_before(0.85)\n",
        "    return (train , val)\n",
        "\n",
        "def trend_test(ts:TimeSeries):\n",
        "    import pymannkendall as mk\n",
        "    test = mk.original_test(ts)\n",
        "    plt.plot(test)\n",
        "    print(test)\n",
        "\n",
        "def stationarity_test(timeseries: pd.Series)-> None:\n",
        "    from statsmodels.tsa.stattools import adfuller\n",
        "    df_test = adfuller(timeseries, autolag='AIC')\n",
        "    df_output = pd.Series(df_test[0:4],\n",
        "                        index = [\n",
        "                            'Test Statistics','p-value','Number of lags used','Number of observations'\n",
        "                        ]\n",
        "                        )\n",
        "    print(df_output)\n",
        "\n",
        "def remove_seasonality_trend(ts:TimeSeries)->TimeSeries:\n",
        "    ts = remove_trend(ts)\n",
        "    ts = remove_seasonality(ts)\n",
        "    stationarity_test_adf(ts)\n",
        "    return ts\n",
        "\n",
        "def eval_model(model:darts_models, train:TimeSeries, val:TimeSeries)->pd.DataFrame:\n",
        "    print(f'Filling model {str(model)}.\\n')\n",
        "    model.fit(train)\n",
        "    print('Making predictions.\\n')\n",
        "    forecast = model.predict(len(val))\n",
        "    predictions = forecast.pd_dataframe()\n",
        "    print(f'Model {model} obtains MAPE {mape(val, forecast)}')\n",
        "    return predictions\n"
      ]
    },
    {
      "cell_type": "code",
      "execution_count": null,
      "metadata": {
        "id": "utwkIhAPx0E0"
      },
      "outputs": [],
      "source": [
        "\n",
        "\n",
        "data_files = ['SANDUSDT_1h.csv','ETHUSDT_1h.csv','MANAUSDT_1h.csv']\n",
        "cols = ['datetime','close']\n",
        "df_predictions=df_train=df_val = pd.DataFrame()\n",
        "\n",
        "df_main = pre_process(pd.read_csv(f'{data_files[0]}',usecols=cols))\n",
        "series = convert_to_pd_series(df_main)\n",
        "ts = remove_seasonality_trend(get_timeseries(series))\n",
        "train , val = split_series(ts)\n",
        "df_train, df_val = train.pd_dataframe(), val.pd_dataframe()"
      ]
    },
    {
      "cell_type": "code",
      "execution_count": null,
      "metadata": {
        "colab": {
          "background_save": true,
          "base_uri": "https://localhost:8080/",
          "height": 361,
          "referenced_widgets": [
            "8fc23e36e50643aa812e51b7a298563d",
            "23ac1b0ddb404a48bdf9b63c32d7303d",
            "9995cd9e6af64257a87b89f3b191f761",
            "fc8f8b9410604179a182baf757f36c9f",
            "2c1f185e4bc14125a2e50cf197dd8742",
            "2f6ca77b2da0416d9c0c9bdcb9ee5ee8",
            "ef01280095924b9eaf725e354981033e",
            "a9e79518f906485f8c72fd37d6a91af5",
            "e2aff3c063fb40b1b41ad970b494fddc",
            "6073767d70ef4f4fb054c0709b312119",
            "f14f8ade61264a92a23caa3630ec2b61"
          ]
        },
        "id": "0Q6f4n7Ey-oT",
        "outputId": "50c84404-f555-461c-c735-54a0b0e2b032"
      },
      "outputs": [
        {
          "metadata": {
            "tags": null
          },
          "name": "stderr",
          "output_type": "stream",
          "text": [
            "2022-07-14 08:40:13 darts.models.forecasting.torch_forecasting_model INFO: Train dataset contains 13943 samples.\n",
            "2022-07-14 08:40:13 darts.models.forecasting.torch_forecasting_model INFO: Time series values are 64-bits; casting model to float64.\n",
            "2022-07-14 08:40:13 pytorch_lightning.utilities.rank_zero INFO: GPU available: False, used: False\n",
            "2022-07-14 08:40:13 pytorch_lightning.utilities.rank_zero INFO: TPU available: False, using: 0 TPU cores\n",
            "2022-07-14 08:40:13 pytorch_lightning.utilities.rank_zero INFO: IPU available: False, using: 0 IPUs\n",
            "2022-07-14 08:40:13 pytorch_lightning.utilities.rank_zero INFO: HPU available: False, using: 0 HPUs\n",
            "2022-07-14 08:40:14 pytorch_lightning.callbacks.model_summary INFO: \n",
            "  | Name          | Type             | Params\n",
            "---------------------------------------------------\n",
            "0 | criterion     | MSELoss          | 0     \n",
            "1 | train_metrics | MetricCollection | 0     \n",
            "2 | val_metrics   | MetricCollection | 0     \n",
            "3 | stacks        | ModuleList       | 6.1 M \n",
            "---------------------------------------------------\n",
            "6.1 M     Trainable params\n",
            "1.3 K     Non-trainable params\n",
            "6.1 M     Total params\n",
            "48.430    Total estimated model params size (MB)\n"
          ]
        },
        {
          "data": {
            "application/vnd.jupyter.widget-view+json": {
              "model_id": "8fc23e36e50643aa812e51b7a298563d",
              "version_major": 2,
              "version_minor": 0
            },
            "text/plain": [
              "Training: 0it [00:00, ?it/s]"
            ]
          },
          "metadata": {},
          "output_type": "display_data"
        }
      ],
      "source": [
        "model = darts_models.NBEATSModel(input_chunk_length=6, output_chunk_length=3, random_state=42)\n",
        "model.fit(train, epochs=50, verbose=True)"
      ]
    },
    {
      "cell_type": "code",
      "execution_count": null,
      "metadata": {
        "id": "IpvFT0Zkzmr-"
      },
      "outputs": [],
      "source": [
        ""
      ]
    }
  ],
  "metadata": {
    "colab": {
      "collapsed_sections": [],
      "name": "darts_deep_learning.ipynb",
      "provenance": [],
      "authorship_tag": "ABX9TyO1jIl56GhnoZdlIGvgkhET",
      "include_colab_link": true
    },
    "kernelspec": {
      "display_name": "Python 3",
      "name": "python3"
    },
    "language_info": {
      "name": "python"
    },
    "widgets": {
      "application/vnd.jupyter.widget-state+json": {
        "23ac1b0ddb404a48bdf9b63c32d7303d": {
          "model_module": "@jupyter-widgets/controls",
          "model_module_version": "1.5.0",
          "model_name": "HTMLModel",
          "state": {
            "_dom_classes": [],
            "_model_module": "@jupyter-widgets/controls",
            "_model_module_version": "1.5.0",
            "_model_name": "HTMLModel",
            "_view_count": null,
            "_view_module": "@jupyter-widgets/controls",
            "_view_module_version": "1.5.0",
            "_view_name": "HTMLView",
            "description": "",
            "description_tooltip": null,
            "layout": "IPY_MODEL_2f6ca77b2da0416d9c0c9bdcb9ee5ee8",
            "placeholder": "​",
            "style": "IPY_MODEL_ef01280095924b9eaf725e354981033e",
            "value": "Epoch 35:  46%"
          }
        },
        "2c1f185e4bc14125a2e50cf197dd8742": {
          "model_module": "@jupyter-widgets/base",
          "model_module_version": "1.2.0",
          "model_name": "LayoutModel",
          "state": {
            "_model_module": "@jupyter-widgets/base",
            "_model_module_version": "1.2.0",
            "_model_name": "LayoutModel",
            "_view_count": null,
            "_view_module": "@jupyter-widgets/base",
            "_view_module_version": "1.2.0",
            "_view_name": "LayoutView",
            "align_content": null,
            "align_items": null,
            "align_self": null,
            "border": null,
            "bottom": null,
            "display": "inline-flex",
            "flex": null,
            "flex_flow": "row wrap",
            "grid_area": null,
            "grid_auto_columns": null,
            "grid_auto_flow": null,
            "grid_auto_rows": null,
            "grid_column": null,
            "grid_gap": null,
            "grid_row": null,
            "grid_template_areas": null,
            "grid_template_columns": null,
            "grid_template_rows": null,
            "height": null,
            "justify_content": null,
            "justify_items": null,
            "left": null,
            "margin": null,
            "max_height": null,
            "max_width": null,
            "min_height": null,
            "min_width": null,
            "object_fit": null,
            "object_position": null,
            "order": null,
            "overflow": null,
            "overflow_x": null,
            "overflow_y": null,
            "padding": null,
            "right": null,
            "top": null,
            "visibility": null,
            "width": "100%"
          }
        },
        "2f6ca77b2da0416d9c0c9bdcb9ee5ee8": {
          "model_module": "@jupyter-widgets/base",
          "model_module_version": "1.2.0",
          "model_name": "LayoutModel",
          "state": {
            "_model_module": "@jupyter-widgets/base",
            "_model_module_version": "1.2.0",
            "_model_name": "LayoutModel",
            "_view_count": null,
            "_view_module": "@jupyter-widgets/base",
            "_view_module_version": "1.2.0",
            "_view_name": "LayoutView",
            "align_content": null,
            "align_items": null,
            "align_self": null,
            "border": null,
            "bottom": null,
            "display": null,
            "flex": null,
            "flex_flow": null,
            "grid_area": null,
            "grid_auto_columns": null,
            "grid_auto_flow": null,
            "grid_auto_rows": null,
            "grid_column": null,
            "grid_gap": null,
            "grid_row": null,
            "grid_template_areas": null,
            "grid_template_columns": null,
            "grid_template_rows": null,
            "height": null,
            "justify_content": null,
            "justify_items": null,
            "left": null,
            "margin": null,
            "max_height": null,
            "max_width": null,
            "min_height": null,
            "min_width": null,
            "object_fit": null,
            "object_position": null,
            "order": null,
            "overflow": null,
            "overflow_x": null,
            "overflow_y": null,
            "padding": null,
            "right": null,
            "top": null,
            "visibility": null,
            "width": null
          }
        },
        "6073767d70ef4f4fb054c0709b312119": {
          "model_module": "@jupyter-widgets/base",
          "model_module_version": "1.2.0",
          "model_name": "LayoutModel",
          "state": {
            "_model_module": "@jupyter-widgets/base",
            "_model_module_version": "1.2.0",
            "_model_name": "LayoutModel",
            "_view_count": null,
            "_view_module": "@jupyter-widgets/base",
            "_view_module_version": "1.2.0",
            "_view_name": "LayoutView",
            "align_content": null,
            "align_items": null,
            "align_self": null,
            "border": null,
            "bottom": null,
            "display": null,
            "flex": null,
            "flex_flow": null,
            "grid_area": null,
            "grid_auto_columns": null,
            "grid_auto_flow": null,
            "grid_auto_rows": null,
            "grid_column": null,
            "grid_gap": null,
            "grid_row": null,
            "grid_template_areas": null,
            "grid_template_columns": null,
            "grid_template_rows": null,
            "height": null,
            "justify_content": null,
            "justify_items": null,
            "left": null,
            "margin": null,
            "max_height": null,
            "max_width": null,
            "min_height": null,
            "min_width": null,
            "object_fit": null,
            "object_position": null,
            "order": null,
            "overflow": null,
            "overflow_x": null,
            "overflow_y": null,
            "padding": null,
            "right": null,
            "top": null,
            "visibility": null,
            "width": null
          }
        },
        "8fc23e36e50643aa812e51b7a298563d": {
          "model_module": "@jupyter-widgets/controls",
          "model_module_version": "1.5.0",
          "model_name": "HBoxModel",
          "state": {
            "_dom_classes": [],
            "_model_module": "@jupyter-widgets/controls",
            "_model_module_version": "1.5.0",
            "_model_name": "HBoxModel",
            "_view_count": null,
            "_view_module": "@jupyter-widgets/controls",
            "_view_module_version": "1.5.0",
            "_view_name": "HBoxView",
            "box_style": "",
            "children": [
              "IPY_MODEL_23ac1b0ddb404a48bdf9b63c32d7303d",
              "IPY_MODEL_9995cd9e6af64257a87b89f3b191f761",
              "IPY_MODEL_fc8f8b9410604179a182baf757f36c9f"
            ],
            "layout": "IPY_MODEL_2c1f185e4bc14125a2e50cf197dd8742"
          }
        },
        "9995cd9e6af64257a87b89f3b191f761": {
          "model_module": "@jupyter-widgets/controls",
          "model_module_version": "1.5.0",
          "model_name": "FloatProgressModel",
          "state": {
            "_dom_classes": [],
            "_model_module": "@jupyter-widgets/controls",
            "_model_module_version": "1.5.0",
            "_model_name": "FloatProgressModel",
            "_view_count": null,
            "_view_module": "@jupyter-widgets/controls",
            "_view_module_version": "1.5.0",
            "_view_name": "ProgressView",
            "bar_style": "",
            "description": "",
            "description_tooltip": null,
            "layout": "IPY_MODEL_a9e79518f906485f8c72fd37d6a91af5",
            "max": 436,
            "min": 0,
            "orientation": "horizontal",
            "style": "IPY_MODEL_e2aff3c063fb40b1b41ad970b494fddc",
            "value": 200
          }
        },
        "a9e79518f906485f8c72fd37d6a91af5": {
          "model_module": "@jupyter-widgets/base",
          "model_module_version": "1.2.0",
          "model_name": "LayoutModel",
          "state": {
            "_model_module": "@jupyter-widgets/base",
            "_model_module_version": "1.2.0",
            "_model_name": "LayoutModel",
            "_view_count": null,
            "_view_module": "@jupyter-widgets/base",
            "_view_module_version": "1.2.0",
            "_view_name": "LayoutView",
            "align_content": null,
            "align_items": null,
            "align_self": null,
            "border": null,
            "bottom": null,
            "display": null,
            "flex": "2",
            "flex_flow": null,
            "grid_area": null,
            "grid_auto_columns": null,
            "grid_auto_flow": null,
            "grid_auto_rows": null,
            "grid_column": null,
            "grid_gap": null,
            "grid_row": null,
            "grid_template_areas": null,
            "grid_template_columns": null,
            "grid_template_rows": null,
            "height": null,
            "justify_content": null,
            "justify_items": null,
            "left": null,
            "margin": null,
            "max_height": null,
            "max_width": null,
            "min_height": null,
            "min_width": null,
            "object_fit": null,
            "object_position": null,
            "order": null,
            "overflow": null,
            "overflow_x": null,
            "overflow_y": null,
            "padding": null,
            "right": null,
            "top": null,
            "visibility": null,
            "width": null
          }
        },
        "e2aff3c063fb40b1b41ad970b494fddc": {
          "model_module": "@jupyter-widgets/controls",
          "model_module_version": "1.5.0",
          "model_name": "ProgressStyleModel",
          "state": {
            "_model_module": "@jupyter-widgets/controls",
            "_model_module_version": "1.5.0",
            "_model_name": "ProgressStyleModel",
            "_view_count": null,
            "_view_module": "@jupyter-widgets/base",
            "_view_module_version": "1.2.0",
            "_view_name": "StyleView",
            "bar_color": null,
            "description_width": ""
          }
        },
        "ef01280095924b9eaf725e354981033e": {
          "model_module": "@jupyter-widgets/controls",
          "model_module_version": "1.5.0",
          "model_name": "DescriptionStyleModel",
          "state": {
            "_model_module": "@jupyter-widgets/controls",
            "_model_module_version": "1.5.0",
            "_model_name": "DescriptionStyleModel",
            "_view_count": null,
            "_view_module": "@jupyter-widgets/base",
            "_view_module_version": "1.2.0",
            "_view_name": "StyleView",
            "description_width": ""
          }
        },
        "f14f8ade61264a92a23caa3630ec2b61": {
          "model_module": "@jupyter-widgets/controls",
          "model_module_version": "1.5.0",
          "model_name": "DescriptionStyleModel",
          "state": {
            "_model_module": "@jupyter-widgets/controls",
            "_model_module_version": "1.5.0",
            "_model_name": "DescriptionStyleModel",
            "_view_count": null,
            "_view_module": "@jupyter-widgets/base",
            "_view_module_version": "1.2.0",
            "_view_name": "StyleView",
            "description_width": ""
          }
        },
        "fc8f8b9410604179a182baf757f36c9f": {
          "model_module": "@jupyter-widgets/controls",
          "model_module_version": "1.5.0",
          "model_name": "HTMLModel",
          "state": {
            "_dom_classes": [],
            "_model_module": "@jupyter-widgets/controls",
            "_model_module_version": "1.5.0",
            "_model_name": "HTMLModel",
            "_view_count": null,
            "_view_module": "@jupyter-widgets/controls",
            "_view_module_version": "1.5.0",
            "_view_name": "HTMLView",
            "description": "",
            "description_tooltip": null,
            "layout": "IPY_MODEL_6073767d70ef4f4fb054c0709b312119",
            "placeholder": "​",
            "style": "IPY_MODEL_f14f8ade61264a92a23caa3630ec2b61",
            "value": " 200/436 [01:28&lt;01:44,  2.25it/s, loss=0.000619, train_loss=0.000487]"
          }
        }
      }
    }
  },
  "nbformat": 4,
  "nbformat_minor": 0
}